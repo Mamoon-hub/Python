{
 "cells": [
  {
   "cell_type": "code",
   "execution_count": 17,
   "metadata": {},
   "outputs": [
    {
     "name": "stdout",
     "output_type": "stream",
     "text": [
      "Q1\n",
      "Enter marks of Math: 90\n",
      "Enter marks of English: 80\n",
      "Enter marks of Urdu: 66\n",
      "Enter marks of Computer: 78\n",
      "Enter marks of Islamiat: 76\n",
      "Your Grade is B+\n"
     ]
    }
   ],
   "source": [
    "print(\"Q1\")\n",
    "mark1 = int(input(\"Enter marks of Math: \"));\n",
    "mark2 = int(input(\"Enter marks of English: \"));\n",
    "mark3 = int(input(\"Enter marks of Urdu: \"));\n",
    "mark4 = int(input(\"Enter marks of Computer: \"));\n",
    "mark5 = int(input(\"Enter marks of Islamiat: \"));\n",
    "sum = mark1 + mark2 + mark3 + mark4 + mark5;\n",
    "average = sum/5;\n",
    "if(average>=90 and average<=100):\n",
    " print(\"Your Grade is A+\");\n",
    "elif(average>=80 and average<=89):\n",
    " print(\"Your Grade is A\");\n",
    "elif(average>=70 and average<=79):\n",
    " print(\"Your Grade is B+\");\n",
    "elif(average>=60 and average<=69):\n",
    " print(\"Your Grade is B\");\n",
    "elif(average>=50 and average<=59):\n",
    " print(\"Your Grade is C+\");\n",
    "elif(average>=40 and average<=49):\n",
    " print(\"Your Grade is C\");\n",
    "else:\n",
    " print(\"Your Grade is F\");\n",
    "    "
   ]
  },
  {
   "cell_type": "code",
   "execution_count": 20,
   "metadata": {},
   "outputs": [
    {
     "name": "stdout",
     "output_type": "stream",
     "text": [
      "Q2\n",
      "Enter a number: 2\n",
      "2 is Even\n"
     ]
    }
   ],
   "source": [
    "print(\"Q2\")\n",
    "num = int(input(\"Enter a number: \"))\n",
    "if (num % 2) == 0:\n",
    " print(\"{0} is Even\".format(num))\n",
    "else:\n",
    " print(\"{0} is Odd\".format(num))"
   ]
  },
  {
   "cell_type": "code",
   "execution_count": 32,
   "metadata": {},
   "outputs": [
    {
     "name": "stdout",
     "output_type": "stream",
     "text": [
      "Q3\n",
      "Enter length : 5\n",
      "number: 4\n",
      "number: 3\n",
      "number: 2\n",
      "number: 4\n",
      "number: 5\n",
      "[4, 3, 2, 4, 5]\n"
     ]
    }
   ],
   "source": [
    "print(\"Q3\")\n",
    "\n",
    "leng = [] \n",
    "n = int(input(\"Enter length : \")) \n",
    "for i in range(0, n): \n",
    " ele = int(input(\"number: \")) \n",
    " leng.append(ele)\n",
    "print(leng) \n"
   ]
  },
  {
   "cell_type": "code",
   "execution_count": 51,
   "metadata": {},
   "outputs": [
    {
     "name": "stdout",
     "output_type": "stream",
     "text": [
      "Q5\n",
      "How many numbers: 4\n",
      "Enter number 3323\n",
      "Enter number 3234\n",
      "Enter number 32\n",
      "Enter number 23\n",
      "Maximum number in the list is : 3323 \n",
      "Minimum number in the list is : 23\n"
     ]
    }
   ],
   "source": [
    "print(\"Q5\")\n",
    "lst = []\n",
    "num = int(input('How many numbers: '))\n",
    "for n in range(num):\n",
    " numbers = int(input('Enter number '))\n",
    " lst.append(numbers)\n",
    "print(\"Maximum number in the list is :\", max(lst), \"\\nMinimum number in the list is :\", min(lst))"
   ]
  },
  {
   "cell_type": "code",
   "execution_count": 67,
   "metadata": {},
   "outputs": [
    {
     "name": "stdout",
     "output_type": "stream",
     "text": [
      "Q6\n",
      "1\n",
      "1\n",
      "2\n",
      "3\n"
     ]
    }
   ],
   "source": [
    "print(\"Q6\")\n",
    "a = [1, 1, 2, 3, 5, 8, 13, 21, 34, 55, 89]\n",
    "for i in a:\n",
    " if i < 5:\n",
    "  print(i)"
   ]
  },
  {
   "cell_type": "code",
   "execution_count": null,
   "metadata": {},
   "outputs": [],
   "source": []
  }
 ],
 "metadata": {
  "kernelspec": {
   "display_name": "Python 3",
   "language": "python",
   "name": "python3"
  },
  "language_info": {
   "codemirror_mode": {
    "name": "ipython",
    "version": 3
   },
   "file_extension": ".py",
   "mimetype": "text/x-python",
   "name": "python",
   "nbconvert_exporter": "python",
   "pygments_lexer": "ipython3",
   "version": "3.7.4"
  }
 },
 "nbformat": 4,
 "nbformat_minor": 2
}
